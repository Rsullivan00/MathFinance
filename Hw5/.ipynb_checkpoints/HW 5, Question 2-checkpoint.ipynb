{
 "cells": [
  {
   "cell_type": "markdown",
   "metadata": {},
   "source": [
    "# Question 2"
   ]
  },
  {
   "cell_type": "code",
   "execution_count": 50,
   "metadata": {
    "collapsed": false
   },
   "outputs": [
    {
     "name": "stdout",
     "output_type": "stream",
     "text": [
      "date\n",
      "03JAN1957    0.006391\n",
      "04JAN1957   -0.001963\n",
      "07JAN1957   -0.006062\n",
      "08JAN1957   -0.002706\n",
      "09JAN1957   -0.001316\n",
      "Name: dji, dtype: float64\n",
      "observation_date\n",
      "1963-01-03         -0.002618\n",
      "1963-01-04          0.007874\n",
      "1963-01-07         -0.002604\n",
      "1963-01-08         -0.005222\n",
      "1963-01-09          0.002625\n",
      "Name: DGS10, dtype: float64\n"
     ]
    }
   ],
   "source": [
    "from pandas import DataFrame\n",
    "from pandas.io.data import DataReader\n",
    "from datetime import datetime \n",
    "\n",
    "# Import data and calculate daily returns\n",
    "csv = DataFrame.from_csv('dow_jones.csv')\n",
    "s_returns = csv['dji'].pct_change().dropna()\n",
    "bonds = DataFrame.from_csv('treasury_bonds.csv')\n",
    "b_returns = bonds['DGS10'].pct_change().dropna()\n",
    "\n",
    "# Force returns to same length for incomplete data\n",
    "m = min(len(s_returns), len(b_returns))\n",
    "s_returns = s_returns[:m]\n",
    "b_returns = b_returns[:m]\n",
    "\n",
    "print s_returns.head()\n",
    "print b_returns.head()"
   ]
  },
  {
   "cell_type": "code",
   "execution_count": 51,
   "metadata": {
    "collapsed": false
   },
   "outputs": [
    {
     "name": "stdout",
     "output_type": "stream",
     "text": [
      "0.000301791636695 0.00929119309274\n",
      "5.37903647443e-05 0.0119733639974\n"
     ]
    }
   ],
   "source": [
    "# Part (a)\n",
    "print s_returns.mean(), s_returns.std()\n",
    "print b_returns.mean(), b_returns.std()"
   ]
  },
  {
   "cell_type": "code",
   "execution_count": 52,
   "metadata": {
    "collapsed": false
   },
   "outputs": [
    {
     "name": "stdout",
     "output_type": "stream",
     "text": [
      "Final values:\tstock index:26.80\tbond index:0.80\n"
     ]
    }
   ],
   "source": [
    "def simulate(returns):\n",
    "    values = [1.0]\n",
    "    for i, ret in enumerate(returns):\n",
    "        values.append(values[-1]*(1+ret))\n",
    "  \n",
    "    return values\n",
    "\n",
    "s_vals = simulate(s_returns)\n",
    "b_vals = simulate(b_returns)\n",
    "print \"Final values:\\tstock index:%0.2f\\tbond index:%0.2f\" % (s_vals[-1], b_vals[-1])"
   ]
  },
  {
   "cell_type": "code",
   "execution_count": 53,
   "metadata": {
    "collapsed": false
   },
   "outputs": [
    {
     "data": {
      "text/plain": [
       "[<matplotlib.lines.Line2D at 0x7fa4daa65b90>]"
      ]
     },
     "execution_count": 53,
     "metadata": {},
     "output_type": "execute_result"
    },
    {
     "data": {
      "image/png": "[encoded data removed]",
      "text/plain": [
       "<matplotlib.figure.Figure at 0x7fa4d2cb9f90>"
      ]
     },
     "metadata": {},
     "output_type": "display_data"
    }
   ],
   "source": [
    "% matplotlib inline\n",
    "import matplotlib.pyplot as plt\n",
    "import numpy as np\n",
    "\n",
    "fig, ax = plt.subplots()\n",
    "\n",
    "x = xrange(len(s_vals))\n",
    "ax.plot(x, s_vals, color=\"red\")\n",
    "ax.plot(x, b_vals, color=\"blue\")     "
   ]
  },
  {
   "cell_type": "code",
   "execution_count": 54,
   "metadata": {
    "collapsed": false
   },
   "outputs": [
    {
     "name": "stdout",
     "output_type": "stream",
     "text": [
      "2.54410239832e+30\n"
     ]
    }
   ],
   "source": [
    "perfect_returns = []\n",
    "for i in xrange(len(b_returns)):\n",
    "    perfect_returns.append(max(s_returns[i], b_returns[i]))\n",
    "\n",
    "vals = simulate(perfect_returns)\n",
    "print(vals[-1])"
   ]
  },
  {
   "cell_type": "code",
   "execution_count": 55,
   "metadata": {
    "collapsed": false
   },
   "outputs": [
    {
     "data": {
      "text/plain": [
       "[<matplotlib.lines.Line2D at 0x7fa4d2a30dd0>]"
      ]
     },
     "execution_count": 55,
     "metadata": {},
     "output_type": "execute_result"
    },
    {
     "data": {
      "image/png": "[encoded data removed]",
      "text/plain": [
       "<matplotlib.figure.Figure at 0x7fa4d2dbecd0>"
      ]
     },
     "metadata": {},
     "output_type": "display_data"
    }
   ],
   "source": [
    "fig, ax = plt.subplots()\n",
    "\n",
    "x = xrange(len(s_vals))\n",
    "ax.plot(x, s_vals, color=\"red\")\n",
    "ax.plot(x, b_vals, color=\"blue\") \n",
    "ax.plot(x, vals, color=\"green\")  "
   ]
  },
  {
   "cell_type": "code",
   "execution_count": null,
   "metadata": {
    "collapsed": true
   },
   "outputs": [],
   "source": []
  }
 ],
 "metadata": {
  "kernelspec": {
   "display_name": "Python 2",
   "language": "python",
   "name": "python2"
  },
  "language_info": {
   "codemirror_mode": {
    "name": "ipython",
    "version": 2
   },
   "file_extension": ".py",
   "mimetype": "text/x-python",
   "name": "python",
   "nbconvert_exporter": "python",
   "pygments_lexer": "ipython2",
   "version": "2.7.9"
  }
 },
 "nbformat": 4,
 "nbformat_minor": 0
}
