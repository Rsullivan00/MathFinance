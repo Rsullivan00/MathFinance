{
 "cells": [
  {
   "cell_type": "code",
   "execution_count": 80,
   "metadata": {
    "collapsed": false
   },
   "outputs": [],
   "source": [
    "from pandas import DataFrame\n",
    "from pandas.io.data import DataReader\n",
    "from datetime import datetime \n",
    "\n",
    "# Import data and calculate daily returns\n",
    "csv = DataFrame.from_csv('dow_jones.csv')\n",
    "s_returns = csv['dji'].pct_change().dropna()\n",
    "bonds = DataFrame.from_csv('treasury_bonds.csv')\n",
    "b_returns = bonds['DGS10'].dropna()/(100 * 252)\n",
    "\n",
    "# Force returns to same length for incomplete data\n",
    "m = min(len(s_returns), len(b_returns))\n",
    "s_returns = s_returns[:m]\n",
    "b_returns = b_returns[:m]"
   ]
  },
  {
   "cell_type": "code",
   "execution_count": 81,
   "metadata": {
    "collapsed": false
   },
   "outputs": [
    {
     "name": "stdout",
     "output_type": "stream",
     "text": [
      "Stocks mean:0.000302874417176, sigma:0.00929163175004\n",
      "Bonds mean:0.000262194364986, sigma:0.000108690252118\n"
     ]
    }
   ],
   "source": [
    "# Part (a)\n",
    "print \"Stocks mean:%s, sigma:%s\" % (s_returns.mean(), s_returns.std())\n",
    "print \"Bonds mean:%s, sigma:%s\" % (b_returns.mean(), b_returns.std())"
   ]
  },
  {
   "cell_type": "code",
   "execution_count": 82,
   "metadata": {
    "collapsed": false
   },
   "outputs": [
    {
     "name": "stdout",
     "output_type": "stream",
     "text": [
      "Final values:\tstock index:27.18\tbond index:28.18\n"
     ]
    }
   ],
   "source": [
    "# Part (b)\n",
    "def simulate(returns):\n",
    "    values = [1.0]\n",
    "    for i, ret in enumerate(returns):\n",
    "        values.append(values[-1]*(1+ret))\n",
    "  \n",
    "    return values\n",
    "\n",
    "s_vals = simulate(s_returns)\n",
    "b_vals = simulate(b_returns)\n",
    "print \"Final values:\\tstock index:%0.2f\\tbond index:%0.2f\" % (s_vals[-1], b_vals[-1])"
   ]
  },
  {
   "cell_type": "code",
   "execution_count": 71,
   "metadata": {
    "collapsed": false
   },
   "outputs": [
    {
     "data": {
      "text/plain": [
       "[<matplotlib.lines.Line2D at 0x7fa4d2bfdc50>]"
      ]
     },
     "execution_count": 71,
     "metadata": {},
     "output_type": "execute_result"
    },
    {
     "data": {
      "image/png": "[encoded data removed]",
      "text/plain": [
       "<matplotlib.figure.Figure at 0x7fa4d287ef50>"
      ]
     },
     "metadata": {},
     "output_type": "display_data"
    }
   ],
   "source": [
    "% matplotlib inline\n",
    "import matplotlib.pyplot as plt\n",
    "import numpy as np\n",
    "\n",
    "fig, ax = plt.subplots()\n",
    "\n",
    "x = xrange(len(s_vals))\n",
    "ax.plot(x, s_vals, color=\"red\")\n",
    "ax.plot(x, b_vals, color=\"blue\")     "
   ]
  },
  {
   "cell_type": "code",
   "execution_count": 87,
   "metadata": {
    "collapsed": false
   },
   "outputs": [
    {
     "name": "stdout",
     "output_type": "stream",
     "text": [
      "2.91120460155e+19\n"
     ]
    }
   ],
   "source": [
    "# Part (c)\n",
    "perfect_returns = []\n",
    "for i in xrange(len(b_returns)):\n",
    "    perfect_returns.append(max(s_returns[i], b_returns[i]))\n",
    "\n",
    "vals = simulate(perfect_returns)\n",
    "print(vals[-1])"
   ]
  },
  {
   "cell_type": "code",
   "execution_count": 78,
   "metadata": {
    "collapsed": false
   },
   "outputs": [
    {
     "data": {
      "text/plain": [
       "[<matplotlib.lines.Line2D at 0x7fa4d291ddd0>]"
      ]
     },
     "execution_count": 78,
     "metadata": {},
     "output_type": "execute_result"
    },
    {
     "data": {
      "image/png": "[encoded data removed]",
      "text/plain": [
       "<matplotlib.figure.Figure at 0x7fa4d2d75c50>"
      ]
     },
     "metadata": {},
     "output_type": "display_data"
    }
   ],
   "source": [
    "fig, ax = plt.subplots()\n",
    "\n",
    "x = xrange(len(s_vals))\n",
    "ax.plot(x, s_vals, color=\"red\")\n",
    "ax.plot(x, b_vals, color=\"blue\") \n",
    "ax.plot(x, vals, color=\"green\")  "
   ]
  },
  {
   "cell_type": "markdown",
   "metadata": {},
   "source": [
    "\\$1 becomes $\\$2.9*10^{19}$, or $29$ quintillion dollars, with the ideal allocation of money (and assuming that there is no penalty for switching your money between indexes). \n",
    "\n",
    "This is obviously a massive improvement on keeping your money in one index or the other, but this situation is unrealistic."
   ]
  },
  {
   "cell_type": "code",
   "execution_count": null,
   "metadata": {
    "collapsed": true
   },
   "outputs": [],
   "source": []
  }
 ],
 "metadata": {
  "kernelspec": {
   "display_name": "Python 2",
   "language": "python",
   "name": "python2"
  },
  "language_info": {
   "codemirror_mode": {
    "name": "ipython",
    "version": 2
   },
   "file_extension": ".py",
   "mimetype": "text/x-python",
   "name": "python",
   "nbconvert_exporter": "python",
   "pygments_lexer": "ipython2",
   "version": "2.7.9"
  }
 },
 "nbformat": 4,
 "nbformat_minor": 0
}
