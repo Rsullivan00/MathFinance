{
 "cells": [
  {
   "cell_type": "code",
   "execution_count": 1,
   "metadata": {
    "collapsed": false
   },
   "outputs": [
    {
     "name": "stdout",
     "output_type": "stream",
     "text": [
      "             Open   High    Low  Close   Volume  Adj Close\n",
      "Date                                                      \n",
      "2009-01-02  83.89  87.59  83.89  87.37  7558200      77.31\n",
      "2009-01-05  86.42  87.67  86.18  86.82  8315700      76.82\n",
      "2009-01-06  87.11  90.41  86.37  89.23  9649500      78.95\n",
      "2009-01-07  87.83  88.80  87.12  87.79  8455100      77.68\n",
      "2009-01-08  87.81  88.14  85.98  87.18  7231800      77.14\n"
     ]
    }
   ],
   "source": [
    "from pandas.io.data import DataReader\n",
    "from datetime import datetime \n",
    "\n",
    "ibm = DataReader(\"IBM\",  \"yahoo\", datetime(2009,1,1), datetime(2014,12,31))\n",
    "print ibm.head()"
   ]
  },
  {
   "cell_type": "markdown",
   "metadata": {},
   "source": [
    "We now calculate daily and annual returns using the data received from Yahoo."
   ]
  },
  {
   "cell_type": "code",
   "execution_count": 2,
   "metadata": {
    "collapsed": false,
    "scrolled": true
   },
   "outputs": [],
   "source": [
    "import numpy as np\n",
    "import pandas as pd\n",
    "\n",
    "stkp = ibm[\"Adj Close\"]\n",
    "daily_returns = np.divide(np.subtract(stkp[1:], stkp[:-1]), stkp[1:])\n",
    "annual_stkp = ibm.resample('A')['Adj Close']\n",
    "annual_returns = np.divide(np.subtract(annual_stkp[1:], annual_stkp[:-1]), annual_stkp[1:]) "
   ]
  },
  {
   "cell_type": "markdown",
   "metadata": {},
   "source": [
    "<h3>Part a</h3>"
   ]
  },
  {
   "cell_type": "code",
   "execution_count": 3,
   "metadata": {
    "collapsed": false
   },
   "outputs": [
    {
     "name": "stdout",
     "output_type": "stream",
     "text": [
      "Mean daily return: 0.000397039744625\n",
      "Mean annual return: 0.107214425871\n"
     ]
    }
   ],
   "source": [
    "print 'Mean daily return: %s' % daily_returns.mean()\n",
    "print 'Mean annual return: %s' % annual_returns.mean()"
   ]
  },
  {
   "cell_type": "markdown",
   "metadata": {},
   "source": [
    "<h3>Part b</h3>"
   ]
  },
  {
   "cell_type": "code",
   "execution_count": 4,
   "metadata": {
    "collapsed": false
   },
   "outputs": [
    {
     "name": "stdout",
     "output_type": "stream",
     "text": [
      "Daily standard deviation: 0.0128158162773\n",
      "Annual standard deviation: 0.121014996882\n"
     ]
    }
   ],
   "source": [
    "print 'Daily standard deviation: %s' % daily_returns.std()\n",
    "print 'Annual standard deviation: %s' % annual_returns.std()"
   ]
  },
  {
   "cell_type": "markdown",
   "metadata": {},
   "source": [
    "<h3>Part c</h3>"
   ]
  },
  {
   "cell_type": "code",
   "execution_count": 5,
   "metadata": {
    "collapsed": false
   },
   "outputs": [
    {
     "name": "stdout",
     "output_type": "stream",
     "text": [
      "Histogram of returns for 1 year:\n"
     ]
    },
    {
     "data": {
      "text/plain": [
       "array([[<matplotlib.axes._subplots.AxesSubplot object at 0x7f7b8a08ea10>]], dtype=object)"
      ]
     },
     "execution_count": 5,
     "metadata": {},
     "output_type": "execute_result"
    },
    {
     "data": {
      "image/png": "[encoded data removed]",
      "text/plain": [
       "<matplotlib.figure.Figure at 0x7f7b8a08e390>"
      ]
     },
     "metadata": {},
     "output_type": "display_data"
    }
   ],
   "source": [
    "%matplotlib inline\n",
    "\n",
    "print 'Histogram of returns for 1 year:'\n",
    "df_year = pd.DataFrame(daily_returns[:260])\n",
    "df_year.hist(bins=20)"
   ]
  },
  {
   "cell_type": "markdown",
   "metadata": {},
   "source": [
    "<h3>Part d</h3>"
   ]
  },
  {
   "cell_type": "code",
   "execution_count": 6,
   "metadata": {
    "collapsed": false,
    "scrolled": true
   },
   "outputs": [
    {
     "name": "stdout",
     "output_type": "stream",
     "text": [
      "Histogram of returns for whole horizon:\n"
     ]
    },
    {
     "data": {
      "text/plain": [
       "array([[<matplotlib.axes._subplots.AxesSubplot object at 0x7f7b89c8b650>]], dtype=object)"
      ]
     },
     "execution_count": 6,
     "metadata": {},
     "output_type": "execute_result"
    },
    {
     "data": {
      "image/png": "[encoded data removed]",
      "text/plain": [
       "<matplotlib.figure.Figure at 0x7f7b89c95690>"
      ]
     },
     "metadata": {},
     "output_type": "display_data"
    }
   ],
   "source": [
    "print 'Histogram of returns for whole horizon:'\n",
    "df_entire = pd.DataFrame(daily_returns)\n",
    "df_entire.hist(bins=20)"
   ]
  },
  {
   "cell_type": "markdown",
   "metadata": {},
   "source": [
    "<h3>Part e</h3>"
   ]
  },
  {
   "cell_type": "code",
   "execution_count": 7,
   "metadata": {
    "collapsed": false
   },
   "outputs": [
    {
     "data": {
      "text/plain": [
       "array([[<matplotlib.axes._subplots.AxesSubplot object at 0x7f7b89b3b1d0>]], dtype=object)"
      ]
     },
     "execution_count": 7,
     "metadata": {},
     "output_type": "execute_result"
    },
    {
     "data": {
      "image/png": "[encoded data removed]",
      "text/plain": [
       "<matplotlib.figure.Figure at 0x7f7b89b44d90>"
      ]
     },
     "metadata": {},
     "output_type": "display_data"
    }
   ],
   "source": [
    "annualized_returns = np.subtract(np.power(np.add(1, daily_returns), 365), 1)\n",
    "df_annualized = pd.DataFrame(annualized_returns)\n",
    "df_annualized.hist(bins=20)"
   ]
  },
  {
   "cell_type": "code",
   "execution_count": 8,
   "metadata": {
    "collapsed": false
   },
   "outputs": [
    {
     "data": {
      "image/png": "[encoded data removed]",
      "text/plain": [
       "<matplotlib.figure.Figure at 0x7f7b89a03c50>"
      ]
     },
     "metadata": {},
     "output_type": "display_data"
    }
   ],
   "source": [
    "axs = df_year.hist()\n",
    "\n",
    "for ax, (colname, values) in zip(axs.flat, df_annualized.iteritems()):\n",
    "    values.hist(ax=ax, bins=20)"
   ]
  },
  {
   "cell_type": "markdown",
   "metadata": {},
   "source": [
    "The calculated annualized returns seem to have a very large range with an extended tail. They are very heavily biased close to 0, however.\n",
    "\n",
    "The curve we see does not appear to be normal because of the high variance."
   ]
  },
  {
   "cell_type": "markdown",
   "metadata": {},
   "source": [
    "<h3>Part f</h3>\n",
    "\n",
    "The probability of losing 10% or more after 20 days can be found by applying the CLT to the normal distribution.\n",
    "\n",
    "$P(\\chi \\leq -0.1) \\approx \n",
    "P\\left(Z \\leq \\frac{-0.1 - \\mu}{\\sigma/\\sqrt{20}}\\right)$"
   ]
  },
  {
   "cell_type": "code",
   "execution_count": 9,
   "metadata": {
    "collapsed": false
   },
   "outputs": [
    {
     "name": "stdout",
     "output_type": "stream",
     "text": [
      "0.000552825315516\n"
     ]
    }
   ],
   "source": [
    "from scipy.stats import norm\n",
    "import math\n",
    "\n",
    "mean = daily_returns.mean()\n",
    "std_dev = daily_returns.std()\n",
    "print norm.pdf((-.01 - mean)/(std_dev/math.sqrt(20)))"
   ]
  },
  {
   "cell_type": "markdown",
   "metadata": {},
   "source": [
    "This gives us an very small possiblity of losing that amount over 20 days, at about 0.05%."
   ]
  },
  {
   "cell_type": "markdown",
   "metadata": {},
   "source": [
    "<h3>Part g</h3>"
   ]
  },
  {
   "cell_type": "code",
   "execution_count": 10,
   "metadata": {
    "collapsed": false
   },
   "outputs": [
    {
     "name": "stdout",
     "output_type": "stream",
     "text": [
      "Number of times: 3133/100000\n"
     ]
    }
   ],
   "source": [
    "l = len(daily_returns)\n",
    "count = 0\n",
    "it = 100000\n",
    "for i in range(it):\n",
    "    values = []\n",
    "    for j in range(20):\n",
    "        values.append(daily_returns[np.random.randint(0, l)])\n",
    "        \n",
    "    if np.sum(values) <= -0.1:\n",
    "        count += 1\n",
    "        \n",
    "print 'Number of times: %d/%d' % (count, it)"
   ]
  },
  {
   "cell_type": "markdown",
   "metadata": {},
   "source": [
    "This experimentally tells us that we have a 3.2% chance of getting a 20-day return of -10% or less."
   ]
  },
  {
   "cell_type": "code",
   "execution_count": null,
   "metadata": {
    "collapsed": true
   },
   "outputs": [],
   "source": []
  }
 ],
 "metadata": {
  "kernelspec": {
   "display_name": "Python 2",
   "language": "python",
   "name": "python2"
  },
  "language_info": {
   "codemirror_mode": {
    "name": "ipython",
    "version": 2
   },
   "file_extension": ".py",
   "mimetype": "text/x-python",
   "name": "python",
   "nbconvert_exporter": "python",
   "pygments_lexer": "ipython2",
   "version": "2.7.9"
  }
 },
 "nbformat": 4,
 "nbformat_minor": 0
}
