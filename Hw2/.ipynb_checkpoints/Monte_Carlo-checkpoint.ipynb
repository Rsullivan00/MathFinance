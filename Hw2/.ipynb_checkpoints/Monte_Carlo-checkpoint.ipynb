{
 "cells": [
  {
   "cell_type": "markdown",
   "metadata": {},
   "source": [
    "## MONTE CARLO"
   ]
  },
  {
   "cell_type": "code",
   "execution_count": 1,
   "metadata": {
    "collapsed": false
   },
   "outputs": [
    {
     "name": "stdout",
     "output_type": "stream",
     "text": [
      "Populating the interactive namespace from numpy and matplotlib\n"
     ]
    }
   ],
   "source": [
    "%pylab inline"
   ]
  },
  {
   "cell_type": "code",
   "execution_count": 2,
   "metadata": {
    "collapsed": false
   },
   "outputs": [
    {
     "data": {
      "image/png": "[encoded data removed]",
      "text/plain": [
       "<matplotlib.figure.Figure at 0x7f7b0234f1d0>"
      ]
     },
     "metadata": {},
     "output_type": "display_data"
    }
   ],
   "source": [
    "#GENERATE NORMALS USING SUMS OF RANDOM VARIABLES\n",
    "m = 10000\n",
    "z = zeros(m)\n",
    "for j in range(m):\n",
    "    u = random.uniform(size=12)\n",
    "    z[j] = sum(u-0.5)\n",
    "\n",
    "fig_u = hist(z,50)"
   ]
  },
  {
   "cell_type": "code",
   "execution_count": null,
   "metadata": {
    "collapsed": false
   },
   "outputs": [],
   "source": [
    "#GENERATE RANDOM NORMAL NUMBERS USING UNIFORM RANDOM NUMBERS USING INVERSE FUNCTION\n",
    "from scipy.stats import norm\n",
    "u = random.uniform(low=0.0,high=1.0,size=10000)\n",
    "fig_u = hist(u,50)"
   ]
  },
  {
   "cell_type": "code",
   "execution_count": null,
   "metadata": {
    "collapsed": false
   },
   "outputs": [],
   "source": [
    "z = norm.ppf(u)\n",
    "fig_z = hist(z,50)"
   ]
  },
  {
   "cell_type": "markdown",
   "metadata": {},
   "source": [
    "### CORRELATED RANDOM NORMALS"
   ]
  },
  {
   "cell_type": "code",
   "execution_count": null,
   "metadata": {
    "collapsed": false
   },
   "outputs": [],
   "source": [
    "import pandas as pd\n",
    "e1 = random.uniform(size=m)\n",
    "e2 = random.uniform(size=m)\n",
    "rho = 0.5\n",
    "z1 = e1\n",
    "z2 = rho*e1 + sqrt(1-rho**2)*e2\n",
    "z = pd.DataFrame(vstack((z1,z2)).T)\n",
    "z.corr()"
   ]
  },
  {
   "cell_type": "code",
   "execution_count": null,
   "metadata": {
    "collapsed": false
   },
   "outputs": [],
   "source": [
    "corr_mat = array([[1,0.5],[0.5,1]])\n",
    "ch = linalg.cholesky(corr_mat)\n",
    "print(ch)\n",
    "print(sqrt(1-rho**2))"
   ]
  },
  {
   "cell_type": "code",
   "execution_count": null,
   "metadata": {
    "collapsed": false
   },
   "outputs": [],
   "source": [
    "e = pd.DataFrame(vstack((e1,e2)).T)\n",
    "z = e.dot(ch.T)\n",
    "z.corr()"
   ]
  },
  {
   "cell_type": "code",
   "execution_count": null,
   "metadata": {
    "collapsed": false
   },
   "outputs": [],
   "source": [
    "m = 100000\n",
    "e1 = random.uniform(size=m)\n",
    "e2 = random.uniform(size=m)\n",
    "e3 = random.uniform(size=m)\n",
    "corr_mat = array([[1.0,0.5,0.3],[0.5,1.0,0.2],[0.3,0.2,1.0]])\n",
    "print(corr_mat)\n",
    "ch = linalg.cholesky(corr_mat)\n",
    "print(ch)\n",
    "e = pd.DataFrame(vstack((e1,e2,e3)).T)\n",
    "z = e.dot(ch.T)\n",
    "z.corr()"
   ]
  },
  {
   "cell_type": "code",
   "execution_count": null,
   "metadata": {
    "collapsed": false
   },
   "outputs": [],
   "source": [
    "#USING THE CANNED FUNCTION\n",
    "m = 100000\n",
    "mn = array([0.,0.,0.])\n",
    "cv = array([[1.0,0.5,0.3],[0.5,1.0,0.2],[0.3,0.2,1.0]])\n",
    "e = random.multivariate_normal(mn, cv, m)\n",
    "z = pd.DataFrame(e)\n",
    "z.corr()"
   ]
  },
  {
   "cell_type": "markdown",
   "metadata": {},
   "source": [
    "### BROWNIAN MOTION"
   ]
  },
  {
   "cell_type": "markdown",
   "metadata": {},
   "source": [
    "As you have seen in previous classes, the law of motion for stocks is based on a Geometric BM, i.e., \n",
    "\n",
    "\\begin{equation}\n",
    "dS(t) = \\mu S(t) \\; dt + \\sigma S(t) \\; dB(t), \\quad S(0)=S_0. \n",
    "\\end{equation}\n",
    "\n",
    "This is a \"stochastic\" differential equation (SDE), because it describes random movement of the stock $S(t)$. As opposed to a deterministic differential equation that is only a function of time, as we saw with the bank account, whose accretion was based on the equation $dy(t) = r \\;y(t) \\;dt$. \n",
    "\n",
    "As we will see (and prove) in a later class, the solution to a SDE is not a deterministic function but a random function. In this case, the solution for time interval $h$ is known to be\n",
    "\n",
    "\\begin{equation}\n",
    "S(t+h) = S(t) \\exp \\left[\\left(\\mu-\\frac{1}{2}\\sigma^2  \\right) h + \\sigma B(h)  \\right]\n",
    "\\end{equation}\n",
    "\n",
    "The presence of $B(h) \\sim N(0,h)$ in the solution makes the function random. The presence of the exponential return makes the stock price lognormal. (Note: if r.v. $x$ is normal, then $e^x$ is lognormal.)\n",
    "\n",
    "Re-arranging, the stock return is \n",
    "\n",
    "\\begin{equation}\n",
    "R(t+h) = \\ln\\left( \\frac{S(t+h)}{S(t)}\\right) \\sim N\\left[ \\left(\\mu-\\frac{1}{2}\\sigma^2  \\right) h, \\sigma^2 h  \\right]\n",
    "\\end{equation}\n",
    "\n",
    "Using properties of the lognormal distribution, the conditional mean of the stock price becomes\n",
    "\n",
    "\\begin{equation}\n",
    "E[S(t+h) | S(t)] = e^{\\mu h}\n",
    "\\end{equation}\n"
   ]
  },
  {
   "cell_type": "markdown",
   "metadata": {},
   "source": [
    "SIMULATING GBM\n",
    "\n",
    "It is easy to simulate a path of stock prices using a discrete form of the solution to the Geometric Brownian motion SDE. \n",
    "\n",
    "\\begin{equation}\n",
    "S(t+h) = S(t) \\exp \\left[\\left(\\mu-\\frac{1}{2}\\sigma^2  \\right) h + \\sigma \\cdot e\\; \\sqrt{h}  \\right]\n",
    "\\end{equation}\n",
    "\n",
    "Note that we replaced $B(h)$ with $e \\sqrt{h}$, where $e \\sim N(0,1)$. Both $B(h)$ and $e \\sqrt{h}$ have mean zero and variance $h$. Knowing $S(t)$, we can simulate $S(t+h)$ by drawing $e$ from a standard normal distribution. "
   ]
  },
  {
   "cell_type": "code",
   "execution_count": null,
   "metadata": {
    "collapsed": false
   },
   "outputs": [],
   "source": [
    "#PARAMETERS\n",
    "m = 1000\n",
    "n = 252\n",
    "s0 = 100.0\n",
    "mu = 0.10\n",
    "sig = 0.20\n",
    "s = zeros((m,n+1))\n",
    "T = 1.0\n",
    "h = T/n\n",
    "\n",
    "#SIMULATE\n",
    "s[:,0] = s0\n",
    "for j in range(1,n+1):\n",
    "    s[:,j] = s[:,j-1]*exp((mu-0.5*sig**2)*h + sig*sqrt(h)*randn(m))\n",
    "    \n",
    "print mean(s[:,n]), s0*exp(mu*T)"
   ]
  },
  {
   "cell_type": "code",
   "execution_count": null,
   "metadata": {
    "collapsed": false
   },
   "outputs": [],
   "source": [
    "plot(s[0,:])\n",
    "ylabel(\"Stock price\")"
   ]
  },
  {
   "cell_type": "code",
   "execution_count": null,
   "metadata": {
    "collapsed": false
   },
   "outputs": [],
   "source": [
    "for j in range(5):\n",
    "    plot(s[j,:])\n",
    "grid()"
   ]
  },
  {
   "cell_type": "markdown",
   "metadata": {},
   "source": [
    "### CHECKING PERFORMANCE"
   ]
  },
  {
   "cell_type": "code",
   "execution_count": null,
   "metadata": {
    "collapsed": false
   },
   "outputs": [],
   "source": [
    "def stksim(s0,mu,sig,T,n,m):\n",
    "    s = zeros((m,n+1))\n",
    "    s[:,0] = s0\n",
    "    h = T/n\n",
    "    for j in range(1,n+1):\n",
    "        s[:,j] = s[:,j-1]*exp((mu-0.5*sig**2)*h + sig*sqrt(h)*randn(m))\n",
    "    return s\n",
    "        \n",
    "%timeit stksim(s0,mu,sig,T,n,100000)"
   ]
  },
  {
   "cell_type": "code",
   "execution_count": null,
   "metadata": {
    "collapsed": false
   },
   "outputs": [],
   "source": [
    "#PRICING CALL OPTIONS\n",
    "def call_price(s0,mu,sig,T,n,m,K):\n",
    "    sT = stksim(s0,mu,sig,T,n,m)[:,n]\n",
    "    cT = exp(-mu*T)*mean(maximum(0,sT-K))\n",
    "    return cT\n",
    "\n",
    "K = 101.\n",
    "m = 10000\n",
    "%timeit print call_price(s0,mu,sig,T,n,m,K)"
   ]
  },
  {
   "cell_type": "code",
   "execution_count": null,
   "metadata": {
    "collapsed": false
   },
   "outputs": [],
   "source": [
    "%time call_price(s0,mu,sig,T,n,m,K)"
   ]
  },
  {
   "cell_type": "code",
   "execution_count": null,
   "metadata": {
    "collapsed": false
   },
   "outputs": [],
   "source": [
    "#PRICE MULTIPLE OPTIONS\n",
    "def many_calls(s0,mu,sig,T,n,m,strikes):\n",
    "    s = zeros((m,n+1))\n",
    "    s[:,0] = s0\n",
    "    h = T/n\n",
    "    for j in range(1,n+1):\n",
    "        s[:,j] = s[:,j-1]*exp((mu-0.5*sig**2)*h + sig*sqrt(h)*randn(m))\n",
    "    for K in strikes:\n",
    "        K = K*1.0\n",
    "        sT = s[:,n]\n",
    "        cT = exp(-mu*T)*mean(maximum(0,sT-K))\n",
    "        print(K, cT)\n",
    "    return cT\n",
    "\n",
    "#RUN CODE\n",
    "m = 100000\n",
    "T = 2.0\n",
    "n = 252*2\n",
    "s0 = 100.0\n",
    "mu = 0.10\n",
    "sig = 0.20\n",
    "strikes = range(95,106)\n",
    "%time many_calls(s0,mu,sig,T,n,m,strikes)"
   ]
  },
  {
   "cell_type": "code",
   "execution_count": null,
   "metadata": {
    "collapsed": false
   },
   "outputs": [],
   "source": [
    "#USE DYNAMIC COMPILED VERSION\n",
    "import numba as nb\n",
    "\n",
    "many_calls2 = nb.jit(many_calls)\n",
    "\n",
    "strikes = range(95,106)\n",
    "%time many_calls2(s0,mu,sig,T,n,m,strikes)  #Slow because it includes compilation time"
   ]
  },
  {
   "cell_type": "code",
   "execution_count": null,
   "metadata": {
    "collapsed": false
   },
   "outputs": [],
   "source": [
    "#RUN THIS ONE MORE TIME TO USE THE PRE-COMPILED VERSION\n",
    "%time many_calls2(s0,mu,sig,T,n,m,strikes)"
   ]
  },
  {
   "cell_type": "markdown",
   "metadata": {},
   "source": [
    "### INTEREST-RATE PROCESSES"
   ]
  },
  {
   "cell_type": "markdown",
   "metadata": {},
   "source": [
    "VASICEK PROCESS\n",
    "\n",
    "Interest rates are mean reverting and not growing exponentially. The process often used, called the Ornstein-Uhlenbeck (OU) process is as follows:\n",
    "\n",
    "\\begin{equation}\n",
    "dr(t) = k(\\theta - r(t))\\; dt + \\sigma dB(t)\n",
    "\\end{equation}\n",
    "\n",
    "It has a mean of \n",
    "\n",
    "\\begin{equation}\n",
    "E[r(t)] = r(0) e^{-kt} + \\theta (1-e^{-kt})\n",
    "\\end{equation}\n",
    "\n",
    "with variance\n",
    "\n",
    "\\begin{equation}\n",
    "Var[r(t)] = \\frac{\\sigma^2}{2k} (1-e^{-2kt})\n",
    "\\end{equation}\n",
    "\n",
    "We simulate it as follows:\n",
    "\n",
    "\\begin{equation}\n",
    "r(t) = r(0) e^{-kt} + \\theta (1-e^{-kt}) + \\sigma \\int_0^t e^{-k(t-s)} dB(s)\n",
    "\\end{equation}\n",
    "\n",
    "Approximated by:\n",
    "\n",
    "\\begin{equation}\n",
    "r(h) = r(0) e^{-kh} + \\theta (1-e^{-kh}) + \\sigma e^{-0.5kh} e \\sqrt(h), \\quad e \\sim N(0,1)\n",
    "\\end{equation}"
   ]
  },
  {
   "cell_type": "code",
   "execution_count": null,
   "metadata": {
    "collapsed": false
   },
   "outputs": [],
   "source": [
    "#PARAMETERS\n",
    "m = 1000\n",
    "n = 2520\n",
    "r0 = 0.06\n",
    "k = 0.5\n",
    "theta = 0.06\n",
    "sig = 0.05\n",
    "r = zeros((m,n+1))\n",
    "T = 10.0\n",
    "h = T/n\n",
    "\n",
    "#SIMULATE\n",
    "r[:,0] = r0\n",
    "for j in range(1,n+1):\n",
    "    r[:,j] = r[:,j-1]*exp(-k*h) + theta*(1-exp(-k*h)) + sig*exp(-0.5*k*h)*sqrt(h)*randn(m)"
   ]
  },
  {
   "cell_type": "code",
   "execution_count": null,
   "metadata": {
    "collapsed": false
   },
   "outputs": [],
   "source": [
    "for j in range(2):\n",
    "    plot(r[j,:])\n",
    "grid()"
   ]
  },
  {
   "cell_type": "code",
   "execution_count": null,
   "metadata": {
    "collapsed": false
   },
   "outputs": [],
   "source": [
    "print \"Mean r(t) = \", mean(r[:,n]), r0*exp(-k*T)+theta*(1-exp(-k*T))\n",
    "print \"Variance r(t) = \",var(r[:,n]), sig**2/(2.0*k) * (1-exp(-2.0*k*T))\n",
    "print \"Stdev r(t) = \",std(r[:,n]), sqrt(sig**2/(2.0*k) * (1-exp(-2.0*k*T)))"
   ]
  },
  {
   "cell_type": "markdown",
   "metadata": {},
   "source": [
    "COX-INGERSOLL-ROSS (1985) SQUARE-ROOT DIFFUSION\n",
    "\n",
    "\\begin{equation}\n",
    "dr(t) = k(\\theta - r(t))\\; dt + \\sigma \\sqrt{r(t)} dB(t)\n",
    "\\end{equation}\n",
    "\n",
    "It has a mean of \n",
    "\n",
    "\\begin{equation}\n",
    "E[r(t)] = r(0) e^{-kt} + \\theta (1-e^{-kt})\n",
    "\\end{equation}\n",
    "\n",
    "We simulate it as follows:\n",
    "\n",
    "\\begin{equation}\n",
    "r(t) = r(0) e^{-kt} + \\theta (1-e^{-kt}) + \\sigma \\int_0^t e^{-k(t-s)} \\sqrt{r(t)} dB(s)\n",
    "\\end{equation}\n",
    "\n",
    "Approximated by:\n",
    "\n",
    "\\begin{equation}\n",
    "r(h) = |r(0) e^{-kh} + \\theta (1-e^{-kh}) + \\sigma e^{-0.5kh} e \\sqrt{r(0)h}|, \\quad e \\sim N(0,1)\n",
    "\\end{equation}\n",
    "\n",
    "Note that the absolute sign is used to ensure that the process remains positive, this has been proven to be acceptable for this process. "
   ]
  },
  {
   "cell_type": "code",
   "execution_count": null,
   "metadata": {
    "collapsed": false
   },
   "outputs": [],
   "source": [
    "#PARAMETERS\n",
    "m = 1000\n",
    "n = 2520\n",
    "r0 = 0.06\n",
    "k = 0.5\n",
    "theta = 0.06\n",
    "sig = 0.25\n",
    "r = zeros((m,n+1))\n",
    "T = 10.0\n",
    "h = T/n\n",
    "\n",
    "#SIMULATE\n",
    "r[:,0] = r0\n",
    "for j in range(1,n+1):\n",
    "    r[:,j] = abs(r[:,j-1]*exp(-k*h) + theta*(1-exp(-k*h)) + sig*exp(-0.5*k*h)*sqrt(r[:,j-1]*h)*randn(m))"
   ]
  },
  {
   "cell_type": "code",
   "execution_count": null,
   "metadata": {
    "collapsed": false
   },
   "outputs": [],
   "source": [
    "for j in range(2):\n",
    "    plot(r[j,:])\n",
    "grid()"
   ]
  },
  {
   "cell_type": "markdown",
   "metadata": {},
   "source": [
    "### ESTIMATING THE VASICEK PROCESS"
   ]
  },
  {
   "cell_type": "markdown",
   "metadata": {},
   "source": [
    "We can write the Vasicek process in discrete time form:\n",
    "\n",
    "\\begin{equation}\n",
    "r(t+h) - r(t) = k(\\theta-r(t))h + \\sigma \\sqrt{h} e\n",
    "\\end{equation}\n",
    "\n",
    "which looks like \n",
    "\n",
    "\\begin{equation}\n",
    "y(t) = a + b r(t) + E(t)\n",
    "\\end{equation}\n",
    "\n",
    "where $y(t) = r(t+h)-r(t)$, $a = k\\theta h$, $b = -kh$, $E(t) = \\sigma e(t) \\sqrt{h}$.\n",
    "\n",
    "We fit the data to a regression to get $a,b,Var[e(t)]$, and then solve to get\n",
    "\n",
    "\\begin{eqnarray}\n",
    "k &=& -\\frac{b}{h} \\\\\n",
    "\\theta &=& \\frac{a}{kh} = -\\frac{a}{b} \\\\\n",
    "\\sigma &=& \\sqrt{\\frac{1}{h} Var[e(t)]}\n",
    "\\end{eqnarray}"
   ]
  },
  {
   "cell_type": "code",
   "execution_count": null,
   "metadata": {
    "collapsed": false
   },
   "outputs": [],
   "source": [
    "#GENERATE THE DATA\n",
    "\n",
    "#PARAMETERS\n",
    "m = 1000\n",
    "n = 2520\n",
    "r0 = 0.06\n",
    "k = 0.5\n",
    "theta = 0.06\n",
    "sig = 0.05\n",
    "r = zeros(n+1)\n",
    "T = 10.0\n",
    "h = T/n\n",
    "\n",
    "#SIMULATE\n",
    "r[0] = r0\n",
    "for j in range(1,n+1):\n",
    "    r[j] = r[j-1]*exp(-k*h) + theta*(1-exp(-k*h)) + sig*exp(-0.5*k*h)*sqrt(h)*randn()"
   ]
  },
  {
   "cell_type": "code",
   "execution_count": null,
   "metadata": {
    "collapsed": false
   },
   "outputs": [],
   "source": [
    "plot(r)"
   ]
  },
  {
   "cell_type": "code",
   "execution_count": null,
   "metadata": {
    "collapsed": false
   },
   "outputs": [],
   "source": [
    "y = r[1:n]-r[0:n-1]\n",
    "r1 = r[0:n-1]\n",
    "\n",
    "from scipy import stats\n",
    "b, a, r_value, p_value, std_err = stats.linregress(r1,y)\n",
    "print \"Intercept = \",a\n",
    "print \"slope (beta) = \",b\n",
    "print \"Std Error (beta) = \",std_err\n",
    "print \"sigma_e = \", std(y-a-b*r1)\n",
    "\n",
    "print \"k = \", -b/h\n",
    "print \"theta = \", -a/b\n",
    "print \"sigma = \", std(y-a-b*r1)/sqrt(h)"
   ]
  },
  {
   "cell_type": "code",
   "execution_count": null,
   "metadata": {
    "collapsed": false
   },
   "outputs": [],
   "source": [
    "scatter(r1,y)"
   ]
  },
  {
   "cell_type": "code",
   "execution_count": null,
   "metadata": {
    "collapsed": false
   },
   "outputs": [],
   "source": [
    "#USE A BETTER REGRESSION PACKAGE\n",
    "\n",
    "import statsmodels.api as sm\n",
    "r1 = sm.add_constant(r1)\n",
    "res = sm.OLS(y,r1).fit()\n",
    "print res.summary()"
   ]
  },
  {
   "cell_type": "code",
   "execution_count": null,
   "metadata": {
    "collapsed": false
   },
   "outputs": [],
   "source": []
  }
 ],
 "metadata": {
  "kernelspec": {
   "display_name": "Python 2",
   "language": "python",
   "name": "python2"
  },
  "language_info": {
   "codemirror_mode": {
    "name": "ipython",
    "version": 2
   },
   "file_extension": ".py",
   "mimetype": "text/x-python",
   "name": "python",
   "nbconvert_exporter": "python",
   "pygments_lexer": "ipython2",
   "version": "2.7.9"
  }
 },
 "nbformat": 4,
 "nbformat_minor": 0
}
